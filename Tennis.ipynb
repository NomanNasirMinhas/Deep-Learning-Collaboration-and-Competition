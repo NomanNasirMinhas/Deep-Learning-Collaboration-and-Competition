{
 "cells": [
  {
   "cell_type": "markdown",
   "metadata": {},
   "source": [
    "# Collaboration and Competition\n",
    "\n",
    "---\n",
    "\n",
    "You are welcome to use this coding environment to train your agent for the project.  Follow the instructions below to get started!\n",
    "\n",
    "### 1. Start the Environment\n",
    "\n",
    "Run the next code cell to install a few packages.  This line will take a few minutes to run!"
   ]
  },
  {
   "cell_type": "code",
   "execution_count": 1,
   "metadata": {},
   "outputs": [
    {
     "name": "stdout",
     "output_type": "stream",
     "text": [
      "\u001b[31mtensorflow 1.7.1 has requirement numpy>=1.13.3, but you'll have numpy 1.12.1 which is incompatible.\u001b[0m\r\n",
      "\u001b[31mipython 6.5.0 has requirement prompt-toolkit<2.0.0,>=1.0.15, but you'll have prompt-toolkit 3.0.5 which is incompatible.\u001b[0m\r\n"
     ]
    }
   ],
   "source": [
    "!pip -q install ./python"
   ]
  },
  {
   "cell_type": "markdown",
   "metadata": {},
   "source": [
    "The environment is already saved in the Workspace and can be accessed at the file path provided below. "
   ]
  },
  {
   "cell_type": "code",
   "execution_count": 2,
   "metadata": {},
   "outputs": [
    {
     "name": "stderr",
     "output_type": "stream",
     "text": [
      "INFO:unityagents:\n",
      "'Academy' started successfully!\n",
      "Unity Academy name: Academy\n",
      "        Number of Brains: 1\n",
      "        Number of External Brains : 1\n",
      "        Lesson number : 0\n",
      "        Reset Parameters :\n",
      "\t\t\n",
      "Unity brain name: TennisBrain\n",
      "        Number of Visual Observations (per agent): 0\n",
      "        Vector Observation space type: continuous\n",
      "        Vector Observation space size (per agent): 8\n",
      "        Number of stacked Vector Observation: 3\n",
      "        Vector Action space type: continuous\n",
      "        Vector Action space size (per agent): 2\n",
      "        Vector Action descriptions: , \n"
     ]
    }
   ],
   "source": [
    "from unityagents import UnityEnvironment\n",
    "import numpy as np\n",
    "\n",
    "env = UnityEnvironment(file_name=\"/data/Tennis_Linux_NoVis/Tennis\")"
   ]
  },
  {
   "cell_type": "markdown",
   "metadata": {},
   "source": [
    "Environments contain **_brains_** which are responsible for deciding the actions of their associated agents. Here we check for the first brain available, and set it as the default brain we will be controlling from Python."
   ]
  },
  {
   "cell_type": "code",
   "execution_count": 3,
   "metadata": {},
   "outputs": [],
   "source": [
    "# get the default brain\n",
    "brain_name = env.brain_names[0]\n",
    "brain = env.brains[brain_name]"
   ]
  },
  {
   "cell_type": "markdown",
   "metadata": {},
   "source": [
    "### 2. Examine the State and Action Spaces\n",
    "\n",
    "Run the code cell below to print some information about the environment."
   ]
  },
  {
   "cell_type": "code",
   "execution_count": 4,
   "metadata": {},
   "outputs": [
    {
     "name": "stdout",
     "output_type": "stream",
     "text": [
      "Number of agents: 2\n",
      "Size of each action: 2\n",
      "There are 2 agents. Each observes a state with length: 24\n",
      "The state for the first agent looks like: [ 0.          0.          0.          0.          0.          0.          0.\n",
      "  0.          0.          0.          0.          0.          0.          0.\n",
      "  0.          0.         -6.65278625 -1.5        -0.          0.\n",
      "  6.83172083  6.         -0.          0.        ]\n"
     ]
    }
   ],
   "source": [
    "# reset the environment\n",
    "env_info = env.reset(train_mode=True)[brain_name]\n",
    "\n",
    "# number of agents \n",
    "num_agents = len(env_info.agents)\n",
    "print('Number of agents:', num_agents)\n",
    "\n",
    "# size of each action\n",
    "action_size = brain.vector_action_space_size\n",
    "print('Size of each action:', action_size)\n",
    "\n",
    "# examine the state space \n",
    "states = env_info.vector_observations\n",
    "state_size = states.shape[1]\n",
    "print('There are {} agents. Each observes a state with length: {}'.format(states.shape[0], state_size))\n",
    "print('The state for the first agent looks like:', states[0])"
   ]
  },
  {
   "cell_type": "markdown",
   "metadata": {},
   "source": [
    "### 3. Take Random Actions in the Environment\n",
    "\n",
    "In the next code cell, you will learn how to use the Python API to control the agent and receive feedback from the environment.\n",
    "\n",
    "Note that **in this coding environment, you will not be able to watch the agents while they are training**, and you should set `train_mode=True` to restart the environment."
   ]
  },
  {
   "cell_type": "code",
   "execution_count": 5,
   "metadata": {},
   "outputs": [],
   "source": [
    "# for i in range(5):                                         # play game for 5 episodes\n",
    "#     env_info = env.reset(train_mode=False)[brain_name]     # reset the environment    \n",
    "#     states = env_info.vector_observations                  # get the current state (for each agent)\n",
    "#     scores = np.zeros(num_agents)                          # initialize the score (for each agent)\n",
    "#     while True:\n",
    "#         actions = np.random.randn(num_agents, action_size) # select an action (for each agent)\n",
    "#         actions = np.clip(actions, -1, 1)                  # all actions between -1 and 1\n",
    "#         env_info = env.step(actions)[brain_name]           # send all actions to tne environment\n",
    "#         next_states = env_info.vector_observations         # get next state (for each agent)\n",
    "#         rewards = env_info.rewards                         # get reward (for each agent)\n",
    "#         dones = env_info.local_done                        # see if episode finished\n",
    "#         scores += env_info.rewards                         # update the score (for each agent)\n",
    "#         states = next_states                               # roll over states to next time step\n",
    "#         if np.any(dones):                                  # exit loop if episode finished\n",
    "#             break\n",
    "#     print('Total score (averaged over agents) this episode: {}'.format(np.mean(scores)))"
   ]
  },
  {
   "cell_type": "markdown",
   "metadata": {},
   "source": [
    "When finished, you can close the environment."
   ]
  },
  {
   "cell_type": "code",
   "execution_count": 6,
   "metadata": {},
   "outputs": [],
   "source": [
    "#env.close()"
   ]
  },
  {
   "cell_type": "markdown",
   "metadata": {},
   "source": [
    "### 4. It's Your Turn!\n",
    "\n",
    "Now it's your turn to train your own agent to solve the environment!  A few **important notes**:\n",
    "- When training the environment, set `train_mode=True`, so that the line for resetting the environment looks like the following:\n",
    "```python\n",
    "env_info = env.reset(train_mode=True)[brain_name]\n",
    "```\n",
    "- To structure your work, you're welcome to work directly in this Jupyter notebook, or you might like to start over with a new file!  You can see the list of files in the workspace by clicking on **_Jupyter_** in the top left corner of the notebook.\n",
    "- In this coding environment, you will not be able to watch the agents while they are training.  However, **_after training the agents_**, you can download the saved model weights to watch the agents on your own machine! "
   ]
  },
  {
   "cell_type": "code",
   "execution_count": 7,
   "metadata": {},
   "outputs": [],
   "source": [
    "import random\n",
    "import torch\n",
    "import sys\n",
    "import os\n",
    "from unityagents import UnityEnvironment"
   ]
  },
  {
   "cell_type": "code",
   "execution_count": 8,
   "metadata": {},
   "outputs": [],
   "source": [
    "seed = 0\n",
    "torch.manual_seed(seed)\n",
    "random.seed(seed)\n",
    "np.random.seed(seed)"
   ]
  },
  {
   "cell_type": "code",
   "execution_count": 9,
   "metadata": {},
   "outputs": [],
   "source": [
    "from maddpg_agent import maddpg_agent\n",
    "maddpg = maddpg_agent()"
   ]
  },
  {
   "cell_type": "code",
   "execution_count": 10,
   "metadata": {},
   "outputs": [],
   "source": [
    "def save_weights(dir):\n",
    "    for i in range(num_agents):\n",
    "        torch.save(maddpg.agents[i].actor_local.state_dict(),                     \n",
    "              os.path.join(dir, 'checkpoint_actor_{}.pth'.format(i)) )\n",
    "        torch.save(maddpg.agents[i].critic_local.state_dict(), \n",
    "              os.path.join(dir, 'checkpoint_critic_{}.pth'.format(i)) )"
   ]
  },
  {
   "cell_type": "code",
   "execution_count": 11,
   "metadata": {},
   "outputs": [
    {
     "name": "stdout",
     "output_type": "stream",
     "text": [
      "Episode: 20, Score: -0.0050, \tAverage Score: -0.0050, Time: 00:00:02 \n",
      "Episode: 40, Score: -0.0050, \tAverage Score: -0.0050, Time: 00:00:04 \n",
      "Episode: 60, Score: -0.0050, \tAverage Score: -0.0050, Time: 00:00:11 \n",
      "Episode: 80, Score: -0.0050, \tAverage Score: -0.0050, Time: 00:00:17 \n",
      "Episode: 100, Score: -0.0050, \tAverage Score: -0.0050, Time: 00:00:23 \n",
      "Episode: 120, Score: -0.0050, \tAverage Score: -0.0050, Time: 00:00:29 \n",
      "Episode: 140, Score: -0.0050, \tAverage Score: -0.0050, Time: 00:00:36 \n",
      "Episode: 160, Score: -0.0050, \tAverage Score: -0.0050, Time: 00:00:42 \n",
      "Episode: 180, Score: -0.0050, \tAverage Score: -0.0050, Time: 00:00:48 \n",
      "Episode: 200, Score: -0.0050, \tAverage Score: -0.0050, Time: 00:00:54 \n",
      "Episode: 220, Score: -0.0050, \tAverage Score: -0.0050, Time: 00:01:01 \n",
      "Episode: 240, Score: -0.0050, \tAverage Score: -0.0050, Time: 00:01:07 \n",
      "Episode: 260, Score: -0.0050, \tAverage Score: -0.0050, Time: 00:01:13 \n",
      "Episode: 280, Score: -0.0050, \tAverage Score: -0.0050, Time: 00:01:19 \n",
      "Episode: 300, Score: -0.0050, \tAverage Score: -0.0050, Time: 00:01:26 \n",
      "Episode: 320, Score: -0.0050, \tAverage Score: -0.0050, Time: 00:01:32 \n",
      "Episode: 340, Score: -0.0050, \tAverage Score: -0.0050, Time: 00:01:38 \n",
      "Episode: 360, Score: -0.0050, \tAverage Score: -0.0050, Time: 00:01:45 \n",
      "Episode: 380, Score: -0.0050, \tAverage Score: -0.0050, Time: 00:01:51 \n",
      "Episode: 400, Score: -0.0050, \tAverage Score: -0.0050, Time: 00:01:57 \n",
      "Episode: 420, Score: -0.0050, \tAverage Score: -0.0050, Time: 00:02:04 \n",
      "Episode: 440, Score: -0.0050, \tAverage Score: -0.0050, Time: 00:02:10 \n",
      "Episode: 460, Score: -0.0050, \tAverage Score: -0.0045, Time: 00:02:16 \n",
      "Episode: 480, Score: -0.0050, \tAverage Score: -0.0045, Time: 00:02:23 \n",
      "Episode: 500, Score: -0.0050, \tAverage Score: -0.0045, Time: 00:02:29 \n",
      "Episode: 520, Score: -0.0050, \tAverage Score: -0.0045, Time: 00:02:35 \n",
      "Episode: 540, Score: -0.0050, \tAverage Score: -0.0045, Time: 00:02:41 \n",
      "Episode: 560, Score: -0.0050, \tAverage Score: -0.0050, Time: 00:02:48 \n",
      "Episode: 580, Score: -0.0050, \tAverage Score: -0.0050, Time: 00:02:54 \n",
      "Episode: 600, Score: -0.0050, \tAverage Score: -0.0050, Time: 00:03:00 \n",
      "Episode: 620, Score: -0.0050, \tAverage Score: -0.0035, Time: 00:03:08 \n",
      "Episode: 640, Score: 0.0450, \tAverage Score: 0.0040, Time: 00:03:20 \n",
      "Episode: 660, Score: -0.0050, \tAverage Score: 0.0085, Time: 00:03:30 \n",
      "Episode: 680, Score: -0.0050, \tAverage Score: 0.0095, Time: 00:03:38 \n",
      "Episode: 700, Score: -0.0050, \tAverage Score: 0.0105, Time: 00:03:45 \n",
      "Episode: 720, Score: -0.0050, \tAverage Score: 0.0100, Time: 00:03:52 \n",
      "Episode: 740, Score: 0.0450, \tAverage Score: 0.0055, Time: 00:04:02 \n",
      "Episode: 760, Score: -0.0050, \tAverage Score: 0.0020, Time: 00:04:09 \n",
      "Episode: 780, Score: -0.0050, \tAverage Score: 0.0020, Time: 00:04:16 \n",
      "Episode: 800, Score: -0.0050, \tAverage Score: 0.0015, Time: 00:04:23 \n",
      "Episode: 820, Score: -0.0050, \tAverage Score: 0.0005, Time: 00:04:29 \n",
      "Episode: 840, Score: -0.0050, \tAverage Score: -0.0015, Time: 00:04:37 \n",
      "Episode: 860, Score: -0.0050, \tAverage Score: -0.0025, Time: 00:04:43 \n",
      "Episode: 880, Score: -0.0050, \tAverage Score: -0.0025, Time: 00:04:50 \n",
      "Episode: 900, Score: -0.0050, \tAverage Score: -0.0010, Time: 00:04:59 \n",
      "Episode: 920, Score: -0.0050, \tAverage Score: 0.0000, Time: 00:05:07 \n",
      "Episode: 940, Score: -0.0050, \tAverage Score: -0.0005, Time: 00:05:14 \n",
      "Episode: 960, Score: -0.0050, \tAverage Score: -0.0005, Time: 00:05:20 \n",
      "Episode: 980, Score: -0.0050, \tAverage Score: -0.0015, Time: 00:05:26 \n",
      "Episode: 1000, Score: -0.0050, \tAverage Score: -0.0035, Time: 00:05:33 \n",
      "Episode: 1020, Score: -0.0050, \tAverage Score: -0.0040, Time: 00:05:40 \n",
      "Episode: 1040, Score: -0.0050, \tAverage Score: -0.0030, Time: 00:05:49 \n",
      "Episode: 1060, Score: -0.0050, \tAverage Score: -0.0005, Time: 00:05:59 \n",
      "Episode: 1080, Score: -0.0050, \tAverage Score: 0.0030, Time: 00:06:11 \n",
      "Episode: 1100, Score: -0.0050, \tAverage Score: 0.0045, Time: 00:06:18 \n",
      "Episode: 1120, Score: -0.0050, \tAverage Score: 0.0050, Time: 00:06:26 \n",
      "Episode: 1140, Score: -0.0050, \tAverage Score: 0.0045, Time: 00:06:33 \n",
      "Episode: 1160, Score: 0.0450, \tAverage Score: 0.0045, Time: 00:06:42 \n",
      "Episode: 1180, Score: -0.0050, \tAverage Score: 0.0015, Time: 00:06:49 \n",
      "Episode: 1200, Score: 0.1450, \tAverage Score: 0.0055, Time: 00:07:00 \n",
      "Episode: 1220, Score: 0.1450, \tAverage Score: 0.0115, Time: 00:07:12 \n",
      "Episode: 1240, Score: -0.0050, \tAverage Score: 0.0150, Time: 00:07:22 \n",
      "Episode: 1260, Score: -0.0050, \tAverage Score: 0.0175, Time: 00:07:33 \n",
      "Episode: 1280, Score: -0.0050, \tAverage Score: 0.0240, Time: 00:07:45 \n",
      "Episode: 1300, Score: 0.0450, \tAverage Score: 0.0230, Time: 00:07:55 \n",
      "Episode: 1320, Score: -0.0050, \tAverage Score: 0.0190, Time: 00:08:04 \n",
      "Episode: 1340, Score: -0.0050, \tAverage Score: 0.0145, Time: 00:08:10 \n",
      "Episode: 1360, Score: -0.0050, \tAverage Score: 0.0095, Time: 00:08:17 \n",
      "Episode: 1380, Score: -0.0050, \tAverage Score: 0.0025, Time: 00:08:23 \n",
      "Episode: 1400, Score: -0.0050, \tAverage Score: -0.0020, Time: 00:08:30 \n",
      "Episode: 1420, Score: -0.0050, \tAverage Score: -0.0050, Time: 00:08:36 \n",
      "Episode: 1440, Score: -0.0050, \tAverage Score: -0.0040, Time: 00:08:43 \n",
      "Episode: 1460, Score: -0.0050, \tAverage Score: -0.0030, Time: 00:08:50 \n",
      "Episode: 1480, Score: -0.0050, \tAverage Score: -0.0025, Time: 00:08:57 \n",
      "Episode: 1500, Score: 0.0450, \tAverage Score: -0.0005, Time: 00:09:05 \n",
      "Episode: 1520, Score: -0.0050, \tAverage Score: 0.0005, Time: 00:09:12 \n",
      "Episode: 1540, Score: -0.0050, \tAverage Score: 0.0010, Time: 00:09:20 \n",
      "Episode: 1560, Score: -0.0050, \tAverage Score: 0.0010, Time: 00:09:27 \n",
      "Episode: 1580, Score: -0.0050, \tAverage Score: 0.0015, Time: 00:09:34 \n",
      "Episode: 1600, Score: -0.0050, \tAverage Score: 0.0005, Time: 00:09:41 \n",
      "Episode: 1620, Score: -0.0050, \tAverage Score: 0.0015, Time: 00:09:50 \n",
      "Episode: 1640, Score: -0.0050, \tAverage Score: 0.0015, Time: 00:09:57 \n",
      "Episode: 1660, Score: -0.0050, \tAverage Score: 0.0045, Time: 00:10:07 \n",
      "Episode: 1680, Score: -0.0050, \tAverage Score: 0.0065, Time: 00:10:15 \n",
      "Episode: 1700, Score: -0.0050, \tAverage Score: 0.0070, Time: 00:10:23 \n",
      "Episode: 1720, Score: -0.0050, \tAverage Score: 0.0065, Time: 00:10:31 \n",
      "Episode: 1740, Score: -0.0050, \tAverage Score: 0.0070, Time: 00:10:39 \n",
      "Episode: 1760, Score: -0.0050, \tAverage Score: 0.0050, Time: 00:10:47 \n",
      "Episode: 1780, Score: -0.0050, \tAverage Score: 0.0045, Time: 00:10:55 \n",
      "Episode: 1800, Score: -0.0050, \tAverage Score: 0.0040, Time: 00:11:03 \n",
      "Episode: 1820, Score: -0.0050, \tAverage Score: 0.0045, Time: 00:11:11 \n",
      "Episode: 1840, Score: -0.0050, \tAverage Score: 0.0055, Time: 00:11:20 \n",
      "Episode: 1860, Score: -0.0050, \tAverage Score: 0.0055, Time: 00:11:28 \n",
      "Episode: 1880, Score: -0.0050, \tAverage Score: 0.0055, Time: 00:11:36 \n",
      "Episode: 1900, Score: 0.0450, \tAverage Score: 0.0080, Time: 00:11:45 \n",
      "Episode: 1920, Score: -0.0050, \tAverage Score: 0.0095, Time: 00:11:55 \n",
      "Episode: 1940, Score: 0.0450, \tAverage Score: 0.0085, Time: 00:12:03 \n",
      "Episode: 1960, Score: 0.0450, \tAverage Score: 0.0100, Time: 00:12:12 \n",
      "Episode: 1980, Score: -0.0050, \tAverage Score: 0.0110, Time: 00:12:21 \n",
      "Episode: 2000, Score: 0.0450, \tAverage Score: 0.0115, Time: 00:12:30 \n",
      "Episode: 2020, Score: -0.0050, \tAverage Score: 0.0100, Time: 00:12:39 \n",
      "Episode: 2040, Score: -0.0050, \tAverage Score: 0.0105, Time: 00:12:47 \n",
      "Episode: 2060, Score: 0.0450, \tAverage Score: 0.0110, Time: 00:12:57 \n",
      "Episode: 2080, Score: 0.0450, \tAverage Score: 0.0125, Time: 00:13:07 \n",
      "Episode: 2100, Score: -0.0050, \tAverage Score: 0.0115, Time: 00:13:16 \n",
      "Episode: 2120, Score: -0.0050, \tAverage Score: 0.0130, Time: 00:13:24 \n",
      "Episode: 2140, Score: -0.0050, \tAverage Score: 0.0140, Time: 00:13:34 \n",
      "Episode: 2160, Score: -0.0050, \tAverage Score: 0.0125, Time: 00:13:42 \n",
      "Episode: 2180, Score: -0.0050, \tAverage Score: 0.0075, Time: 00:13:49 \n",
      "Episode: 2200, Score: -0.0050, \tAverage Score: 0.0045, Time: 00:13:55 \n",
      "Episode: 2220, Score: -0.0050, \tAverage Score: 0.0010, Time: 00:14:02 \n",
      "Episode: 2240, Score: -0.0050, \tAverage Score: -0.0025, Time: 00:14:08 \n",
      "Episode: 2260, Score: -0.0050, \tAverage Score: -0.0050, Time: 00:14:15 \n",
      "Episode: 2280, Score: -0.0050, \tAverage Score: -0.0050, Time: 00:14:22 \n",
      "Episode: 2300, Score: -0.0050, \tAverage Score: -0.0050, Time: 00:14:28 \n",
      "Episode: 2320, Score: -0.0050, \tAverage Score: -0.0050, Time: 00:14:35 \n"
     ]
    },
    {
     "name": "stdout",
     "output_type": "stream",
     "text": [
      "Episode: 2340, Score: -0.0050, \tAverage Score: -0.0050, Time: 00:14:41 \n",
      "Episode: 2360, Score: -0.0050, \tAverage Score: -0.0050, Time: 00:14:48 \n",
      "Episode: 2380, Score: -0.0050, \tAverage Score: -0.0050, Time: 00:14:54 \n",
      "Episode: 2400, Score: -0.0050, \tAverage Score: -0.0045, Time: 00:15:01 \n",
      "Episode: 2420, Score: -0.0050, \tAverage Score: -0.0045, Time: 00:15:08 \n",
      "Episode: 2440, Score: -0.0050, \tAverage Score: -0.0045, Time: 00:15:14 \n",
      "Episode: 2460, Score: -0.0050, \tAverage Score: -0.0040, Time: 00:15:21 \n",
      "Episode: 2480, Score: -0.0050, \tAverage Score: 0.0005, Time: 00:15:32 \n",
      "Episode: 2500, Score: -0.0050, \tAverage Score: 0.0050, Time: 00:15:42 \n",
      "Episode: 2520, Score: -0.0050, \tAverage Score: 0.0090, Time: 00:15:51 \n",
      "Episode: 2540, Score: -0.0050, \tAverage Score: 0.0120, Time: 00:16:00 \n",
      "Episode: 2560, Score: 0.0450, \tAverage Score: 0.0155, Time: 00:16:10 \n",
      "Episode: 2580, Score: 0.0450, \tAverage Score: 0.0160, Time: 00:16:21 \n",
      "Episode: 2600, Score: -0.0050, \tAverage Score: 0.0140, Time: 00:16:29 \n",
      "Episode: 2620, Score: -0.0050, \tAverage Score: 0.0150, Time: 00:16:40 \n",
      "Episode: 2640, Score: 0.0450, \tAverage Score: 0.0155, Time: 00:16:50 \n",
      "Episode: 2660, Score: -0.0050, \tAverage Score: 0.0150, Time: 00:16:59 \n",
      "Episode: 2680, Score: -0.0050, \tAverage Score: 0.0150, Time: 00:17:09 \n",
      "Episode: 2700, Score: 0.0450, \tAverage Score: 0.0190, Time: 00:17:22 \n",
      "Episode: 2720, Score: -0.0050, \tAverage Score: 0.0205, Time: 00:17:34 \n",
      "Episode: 2740, Score: 0.0450, \tAverage Score: 0.0235, Time: 00:17:46 \n",
      "Episode: 2760, Score: 0.0950, \tAverage Score: 0.0290, Time: 00:18:00 \n",
      "Episode: 2780, Score: 0.0450, \tAverage Score: 0.0290, Time: 00:18:11 \n",
      "Episode: 2800, Score: 0.0450, \tAverage Score: 0.0275, Time: 00:18:22 \n",
      "Episode: 2820, Score: 0.0450, \tAverage Score: 0.0280, Time: 00:18:34 \n",
      "Episode: 2840, Score: -0.0050, \tAverage Score: 0.0250, Time: 00:18:44 \n",
      "Episode: 2860, Score: -0.0050, \tAverage Score: 0.0195, Time: 00:18:53 \n",
      "Episode: 2880, Score: -0.0050, \tAverage Score: 0.0165, Time: 00:19:01 \n",
      "Episode: 2900, Score: 0.0450, \tAverage Score: 0.0170, Time: 00:19:14 \n",
      "Episode: 2920, Score: 0.0450, \tAverage Score: 0.0160, Time: 00:19:28 \n",
      "Episode: 2940, Score: 0.0450, \tAverage Score: 0.0170, Time: 00:19:39 \n",
      "Episode: 2960, Score: -0.0050, \tAverage Score: 0.0150, Time: 00:19:47 \n",
      "Episode: 2980, Score: -0.0050, \tAverage Score: 0.0160, Time: 00:19:55 \n",
      "Episode: 3000, Score: -0.0050, \tAverage Score: 0.0135, Time: 00:20:05 \n",
      "Episode: 3020, Score: 0.0450, \tAverage Score: 0.0085, Time: 00:20:13 \n",
      "Episode: 3040, Score: -0.0050, \tAverage Score: 0.0050, Time: 00:20:20 \n",
      "Episode: 3060, Score: -0.0050, \tAverage Score: 0.0050, Time: 00:20:28 \n",
      "Episode: 3080, Score: -0.0050, \tAverage Score: 0.0025, Time: 00:20:35 \n",
      "Episode: 3100, Score: -0.0050, \tAverage Score: -0.0010, Time: 00:20:41 \n",
      "Episode: 3120, Score: -0.0050, \tAverage Score: -0.0010, Time: 00:20:48 \n",
      "Episode: 3140, Score: -0.0050, \tAverage Score: -0.0015, Time: 00:20:55 \n",
      "Episode: 3160, Score: -0.0050, \tAverage Score: -0.0005, Time: 00:21:04 \n",
      "Episode: 3180, Score: -0.0050, \tAverage Score: 0.0000, Time: 00:21:11 \n",
      "Episode: 3200, Score: -0.0050, \tAverage Score: 0.0055, Time: 00:21:22 \n",
      "Episode: 3220, Score: 0.0450, \tAverage Score: 0.0125, Time: 00:21:35 \n",
      "Episode: 3240, Score: -0.0050, \tAverage Score: 0.0220, Time: 00:21:50 \n",
      "Episode: 3260, Score: -0.0050, \tAverage Score: 0.0255, Time: 00:22:02 \n",
      "Episode: 3280, Score: -0.0050, \tAverage Score: 0.0325, Time: 00:22:15 \n",
      "Episode: 3300, Score: 0.0950, \tAverage Score: 0.0365, Time: 00:22:30 \n",
      "Episode: 3320, Score: 0.0450, \tAverage Score: 0.0355, Time: 00:22:42 \n",
      "Episode: 3340, Score: -0.0050, \tAverage Score: 0.0300, Time: 00:22:52 \n",
      "Episode: 3360, Score: -0.0050, \tAverage Score: 0.0320, Time: 00:23:05 \n",
      "Episode: 3380, Score: 0.0450, \tAverage Score: 0.0360, Time: 00:23:22 \n",
      "Episode: 3400, Score: 0.0450, \tAverage Score: 0.0370, Time: 00:23:37 \n",
      "Episode: 3420, Score: 0.0450, \tAverage Score: 0.0410, Time: 00:23:53 \n",
      "Episode: 3440, Score: 0.0450, \tAverage Score: 0.0475, Time: 00:24:09 \n",
      "Episode: 3460, Score: 0.0450, \tAverage Score: 0.0490, Time: 00:24:24 \n",
      "Episode: 3480, Score: 0.0450, \tAverage Score: 0.0435, Time: 00:24:36 \n",
      "Episode: 3500, Score: 0.0950, \tAverage Score: 0.0445, Time: 00:24:53 \n",
      "Episode: 3520, Score: 0.0450, \tAverage Score: 0.0455, Time: 00:25:09 \n",
      "Episode: 3540, Score: -0.0050, \tAverage Score: 0.0465, Time: 00:25:26 \n",
      "Episode: 3560, Score: 0.0450, \tAverage Score: 0.0490, Time: 00:25:43 \n",
      "Episode: 3580, Score: 0.0450, \tAverage Score: 0.0540, Time: 00:25:59 \n",
      "Episode: 3600, Score: 0.0450, \tAverage Score: 0.0565, Time: 00:26:18 \n",
      "Episode: 3620, Score: 0.1450, \tAverage Score: 0.0575, Time: 00:26:36 \n",
      "Episode: 3640, Score: 0.0450, \tAverage Score: 0.0565, Time: 00:26:52 \n",
      "Episode: 3660, Score: 0.1450, \tAverage Score: 0.0570, Time: 00:27:08 \n",
      "Episode: 3680, Score: 0.0450, \tAverage Score: 0.0590, Time: 00:27:25 \n",
      "Episode: 3700, Score: 0.0450, \tAverage Score: 0.0615, Time: 00:27:46 \n",
      "Episode: 3720, Score: -0.0050, \tAverage Score: 0.0695, Time: 00:28:11 \n",
      "Episode: 3740, Score: -0.0050, \tAverage Score: 0.0745, Time: 00:28:32 \n",
      "Episode: 3760, Score: 0.0450, \tAverage Score: 0.0750, Time: 00:28:50 \n",
      "Episode: 3780, Score: 0.0950, \tAverage Score: 0.0755, Time: 00:29:09 \n",
      "Episode: 3800, Score: 0.0950, \tAverage Score: 0.0755, Time: 00:29:31 \n",
      "Episode: 3820, Score: 0.1450, \tAverage Score: 0.0735, Time: 00:29:55 \n",
      "Episode: 3840, Score: 0.0450, \tAverage Score: 0.0745, Time: 00:30:16 \n",
      "Episode: 3860, Score: 0.0450, \tAverage Score: 0.0760, Time: 00:30:36 \n",
      "Episode: 3880, Score: 0.0450, \tAverage Score: 0.0835, Time: 00:31:03 \n",
      "Episode: 3900, Score: 0.0950, \tAverage Score: 0.0910, Time: 00:31:31 \n",
      "Episode: 3920, Score: 0.0950, \tAverage Score: 0.0950, Time: 00:31:58 \n",
      "Episode: 3940, Score: 0.0950, \tAverage Score: 0.0940, Time: 00:32:19 \n",
      "Episode: 3960, Score: 0.1450, \tAverage Score: 0.0955, Time: 00:32:40 \n",
      "Episode: 3980, Score: 0.0950, \tAverage Score: 0.0890, Time: 00:33:00 \n",
      "Episode: 4000, Score: 0.0450, \tAverage Score: 0.0830, Time: 00:33:22 \n",
      "Episode: 4020, Score: 0.0450, \tAverage Score: 0.0765, Time: 00:33:44 \n",
      "Episode: 4040, Score: 0.0950, \tAverage Score: 0.0765, Time: 00:34:05 \n",
      "Episode: 4060, Score: 0.0450, \tAverage Score: 0.0805, Time: 00:34:31 \n",
      "Episode: 4080, Score: 0.3450, \tAverage Score: 0.0900, Time: 00:35:00 \n",
      "Episode: 4100, Score: 0.3450, \tAverage Score: 0.1055, Time: 00:35:37 \n",
      "Episode: 4120, Score: 0.3950, \tAverage Score: 0.1200, Time: 00:36:11 \n",
      "Episode: 4140, Score: 0.1450, \tAverage Score: 0.1400, Time: 00:36:50 \n",
      "Episode: 4160, Score: 0.0450, \tAverage Score: 0.1635, Time: 00:37:37 \n",
      "Episode: 4180, Score: 0.8950, \tAverage Score: 0.1850, Time: 00:38:28 \n",
      "Episode: 4200, Score: -0.0050, \tAverage Score: 0.1990, Time: 00:39:19 \n",
      "Episode: 4220, Score: 0.0950, \tAverage Score: 0.3141, Time: 00:41:39 \n",
      "Episode: 4240, Score: 0.1450, \tAverage Score: 0.4026, Time: 00:43:38 \n",
      "Episode: 4260, Score: 0.2450, \tAverage Score: 0.4031, Time: 00:44:25 \n",
      "Episode: 4280, Score: 0.9450, \tAverage Score: 0.4246, Time: 00:45:33 \n",
      "\n",
      "*** Environment solved in 4291 episodes!\tAverage Score: 0.50 ***\n",
      "\n"
     ]
    }
   ],
   "source": [
    "from collections import deque\n",
    "import time\n",
    "\n",
    "def train(maddpg, env, dir_chkpoints, n_episodes=1000, save_every=50):\n",
    "    \"\"\"Training loop helper for running the environment using the MADDPG algorithm.\n",
    "    Params\n",
    "    ======\n",
    "        maddpg: instance of maddpg_agent wrapper class\n",
    "        env (UnityEnvironment): instance of Unity environment for training\n",
    "        dir_chkpoints: directory to save model weights\n",
    "        n_episodes (int): number of episodes to train for\n",
    "        save_every (int): frequency to save model weights\n",
    "    \"\"\"\n",
    "    \n",
    "    solved = False\n",
    "    scores_total = []\n",
    "    scores_deque = deque(maxlen=100)\n",
    "    scores_global = []\n",
    "    best_score = 0.0\n",
    "    time_start = time.time()\n",
    "    \n",
    "    # Environment information\n",
    "    brain_name = env.brain_names[0]\n",
    "\n",
    "    # Used for learning period to update the model weights\n",
    "    global_step_number = 0\n",
    "    \n",
    "    for i_episode in range(1, n_episodes+1):\n",
    "        \n",
    "        env_info = env.reset(train_mode=True)[brain_name]\n",
    "        states = env_info.vector_observations\n",
    "                    \n",
    "        scores = np.zeros(num_agents)\n",
    "        maddpg.reset()\n",
    "\n",
    "        while True:\n",
    "            actions = maddpg.act(states)\n",
    "\n",
    "            env_info = env.step(actions)[brain_name]\n",
    "            next_states = env_info.vector_observations\n",
    "            rewards = env_info.rewards\n",
    "            dones = env_info.local_done\n",
    "            \n",
    "            global_step_number += 1\n",
    "            maddpg.step(states, actions, rewards, next_states, dones, global_step_number)\n",
    "\n",
    "            scores += rewards\n",
    "            states = next_states\n",
    "\n",
    "            if np.any(dones):\n",
    "                break\n",
    "        \n",
    "        mean_score = np.mean(scores) # mean on 2 agents\n",
    "        scores_total.append(mean_score)\n",
    "        scores_deque.append(mean_score) # mean on 2 agents for 100 episodes\n",
    "        score_average_100epis = np.mean(scores_deque) # value = mean on 100 episodes \n",
    "        scores_global.append(score_average_100epis) # \n",
    "        \n",
    "        print_every = 20\n",
    "        if i_episode % print_every == 0:\n",
    "            s = (int)(time.time() - time_start)\n",
    "            print('Episode: {}, Score: {:.4f}, \\tAverage Score: {:.4f}, Time: {:02}:{:02}:{:02} '\\\n",
    "                 .format(i_episode, mean_score,  score_average_100epis, s//3600, s%3600//60, s%60))\n",
    "\n",
    "        if score_average_100epis >= 0.5 and not solved:\n",
    "            print('\\n*** Environment solved in {:d} episodes!\\tAverage Score: {:.2f} ***\\n'.format(\n",
    "                i_episode, score_average_100epis))\n",
    "            solved = True\n",
    "            save_weights(dir_chkpoints)\n",
    "            best_score = score_average_100epis\n",
    "            break\n",
    "\n",
    "        if i_episode % save_every == 0 and solved:\n",
    "            # Only save these weights if they are better than the ones previously saved\n",
    "            if score_average_100epis > best_score:\n",
    "                best_score = score_average_100epis\n",
    "                save_weights(dir_chkpoints)\n",
    "                s = (int)(time.time() - time_start) \n",
    "                print('*** Episode {}\\tAverage Score: {:.2f}, Time: {:02}:{:02}:{:02} ***\\n '\\\n",
    "                     .format(i_episode, np.mean(scores_deque), s//3600, s%3600//60, s%60))  \n",
    "        \n",
    "\n",
    "    return scores_total, scores_global\n",
    "\n",
    "dir_chkpoints = 'dir_chk_5000d_episodes'\n",
    "scores_total, scores_global = train(maddpg, env, dir_chkpoints, n_episodes=7000)"
   ]
  },
  {
   "cell_type": "code",
   "execution_count": 12,
   "metadata": {},
   "outputs": [
    {
     "data": {
      "image/png": "[encoded data removed]",
      "text/plain": [
       "<matplotlib.figure.Figure at 0x7f79d8095048>"
      ]
     },
     "metadata": {
      "needs_background": "light"
     },
     "output_type": "display_data"
    },
    {
     "name": "stdout",
     "output_type": "stream",
     "text": [
      "len of scores_total:  4291 \n",
      "len of score_global:  4291\n"
     ]
    }
   ],
   "source": [
    "import matplotlib.pyplot as plt\n",
    "import numpy as np\n",
    "%matplotlib inline\n",
    "\n",
    "fig = plt.figure()\n",
    "ax = fig.add_subplot(111)\n",
    "\n",
    "plt.plot(np.arange(1, len(scores_total) + 1), scores_total, label=\"Maximum Score\")\n",
    "plt.plot(np.arange(1, len(scores_global) + 1), \n",
    "    scores_global, label=\"Average Score on 100 episodes\") \n",
    "# This line indicates the score at which the environment is considered solved\n",
    "plt.axhline(y=0.5, color=\"r\",  label=\"Environment Solved\") \n",
    "\n",
    "plt.legend(bbox_to_anchor=(1.05, 1)) \n",
    "plt.ylabel(\"Score\")\n",
    "plt.xlabel(\"Episode No. \")\n",
    "plt.show()\n",
    "\n",
    "print('len of scores_total: ', len(scores_total), '\\nlen of score_global: ',\\\n",
    "    len(scores_global))"
   ]
  },
  {
   "cell_type": "code",
   "execution_count": 13,
   "metadata": {},
   "outputs": [],
   "source": [
    "env.close()"
   ]
  },
  {
   "cell_type": "code",
   "execution_count": null,
   "metadata": {},
   "outputs": [],
   "source": []
  }
 ],
 "metadata": {
  "kernelspec": {
   "display_name": "Python 3",
   "language": "python",
   "name": "python3"
  },
  "language_info": {
   "codemirror_mode": {
    "name": "ipython",
    "version": 3
   },
   "file_extension": ".py",
   "mimetype": "text/x-python",
   "name": "python",
   "nbconvert_exporter": "python",
   "pygments_lexer": "ipython3",
   "version": "3.6.3"
  }
 },
 "nbformat": 4,
 "nbformat_minor": 2
}
